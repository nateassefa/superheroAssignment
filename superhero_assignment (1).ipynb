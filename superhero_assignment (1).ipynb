{
  "cells": [
    {
      "cell_type": "markdown",
      "id": "5fa8dcf6",
      "metadata": {
        "id": "5fa8dcf6"
      },
      "source": [
        "# Superhero Database Assignment (SQLite & Google Colab)\n",
        "\n",
        "## Objective\n",
        "In this assignment, you will design and implement a **Superhero Database** using SQLite in Google Colab. This database will store superheroes, villains, and their battles. You will write SQL queries to analyze battle outcomes and relationships between heroes and villains.\n",
        "\n",
        "### Group Size:\n",
        "- 2 to 3 students per group.\n",
        "\n",
        "### Tools Required:\n",
        "- **Google Colab**\n",
        "- **SQLite (built into Python)**\n",
        "- **CSV files (provided for import)**"
      ]
    },
    {
      "cell_type": "markdown",
      "source": [
        "# **Initialize Database**"
      ],
      "metadata": {
        "id": "xXcmpwCHCRsx"
      },
      "id": "xXcmpwCHCRsx"
    },
    {
      "cell_type": "code",
      "source": [
        "import sqlite3\n",
        "import os\n",
        "\n",
        "# Connect to database\n",
        "conn = sqlite3.connect(\"superhero_db.sqlite\")\n",
        "cursor = conn.cursor()\n",
        "\n",
        "print(\"Database initialized.\")\n",
        "\n",
        "\n"
      ],
      "metadata": {
        "colab": {
          "base_uri": "https://localhost:8080/"
        },
        "id": "ITb8IqT2wpHg",
        "outputId": "57f754d0-dcd6-478f-b7c8-562eb5eb2e03"
      },
      "id": "ITb8IqT2wpHg",
      "execution_count": 30,
      "outputs": [
        {
          "output_type": "stream",
          "name": "stdout",
          "text": [
            "Database initialized.\n"
          ]
        }
      ]
    },
    {
      "cell_type": "markdown",
      "source": [
        "# **Create Tables**"
      ],
      "metadata": {
        "id": "9GN2s1rsCcWe"
      },
      "id": "9GN2s1rsCcWe"
    },
    {
      "cell_type": "code",
      "source": [
        "# Create Heroes table with autoincremented primary key, unique name, power, and team\n",
        "\n",
        "cursor.execute('''\n",
        "CREATE TABLE IF NOT EXISTS heroes (\n",
        "  id INTEGER PRIMARY KEY AUTOINCREMENT,\n",
        "  name TEXT UNIQUE NOT NULL,\n",
        "  power TEXT NOT NULL,\n",
        "  team TEXT NOT NULL\n",
        "  );\n",
        "  '''\n",
        ")\n",
        "\n",
        "# Create Villains Table with autoincremented primary key, unique name, power, and team\n",
        "\n",
        "\n",
        "cursor.execute('''\n",
        "CREATE TABLE IF NOT EXISTS villians(\n",
        "  id INTEGER PRIMARY KEY AUTOINCREMENT,\n",
        "  name TEXT UNIQUE NOT NULL,\n",
        "  evil_plan TEXT NOT NULL\n",
        ");\n",
        "''')\n",
        "\n",
        "# Create Battles table with autoincremented primary key, hello and villain id,\n",
        "# outcome and foreign keys referring to hero and villain ids\n",
        "\n",
        "cursor.execute('''\n",
        "CREATE TABLE IF NOT EXISTS battles(\n",
        "  id INTEGER PRIMARY KEY AUTOINCREMENT,\n",
        "  hero_id INTEGER NOT NULL,\n",
        "  villain_id INTEGER NOT NULL,\n",
        "  outcome TEXT NOT NULL,\n",
        "  FOREIGN KEY (hero_id) REFERENCES heroes(id),\n",
        "  FOREIGN KEY (villain_id) REFERENCES villains(id)\n",
        "  );\n",
        "  '''\n",
        ")\n",
        "\n",
        "conn.commit()\n",
        "\n",
        "print(\"Tables have been created successfully.\")\n"
      ],
      "metadata": {
        "colab": {
          "base_uri": "https://localhost:8080/"
        },
        "id": "QzEymA6Mz6Ov",
        "outputId": "650b5e67-0e30-4c08-9bed-db5658ac8b54"
      },
      "id": "QzEymA6Mz6Ov",
      "execution_count": 33,
      "outputs": [
        {
          "output_type": "stream",
          "name": "stdout",
          "text": [
            "Tables have been created successfully.\n"
          ]
        }
      ]
    },
    {
      "cell_type": "code",
      "source": [
        "# Insert heroes into SQLite\n",
        "heroes_df.to_sql(\"heroes\", conn, if_exists=\"replace\", index=False)\n",
        "\n",
        "# Insert villains into SQLite\n",
        "villains_df.to_sql(\"villains\", conn, if_exists=\"replace\", index=False)\n",
        "\n",
        "# Debug message\n",
        "print(\"Heroes data inserted successfully.\")\n",
        "print(\"Villains data inserted\")"
      ],
      "metadata": {
        "colab": {
          "base_uri": "https://localhost:8080/",
          "height": 211
        },
        "id": "NGQJbhdNAtN7",
        "outputId": "78f7598f-79b8-4ff6-cf8d-c7a66420c1b0"
      },
      "id": "NGQJbhdNAtN7",
      "execution_count": 34,
      "outputs": [
        {
          "output_type": "error",
          "ename": "NameError",
          "evalue": "name 'heroes_df' is not defined",
          "traceback": [
            "\u001b[0;31m---------------------------------------------------------------------------\u001b[0m",
            "\u001b[0;31mNameError\u001b[0m                                 Traceback (most recent call last)",
            "\u001b[0;32m<ipython-input-34-b53db269d591>\u001b[0m in \u001b[0;36m<cell line: 0>\u001b[0;34m()\u001b[0m\n\u001b[1;32m      1\u001b[0m \u001b[0;31m# Insert heroes into SQLite\u001b[0m\u001b[0;34m\u001b[0m\u001b[0;34m\u001b[0m\u001b[0m\n\u001b[0;32m----> 2\u001b[0;31m \u001b[0mheroes_df\u001b[0m\u001b[0;34m.\u001b[0m\u001b[0mto_sql\u001b[0m\u001b[0;34m(\u001b[0m\u001b[0;34m\"heroes\"\u001b[0m\u001b[0;34m,\u001b[0m \u001b[0mconn\u001b[0m\u001b[0;34m,\u001b[0m \u001b[0mif_exists\u001b[0m\u001b[0;34m=\u001b[0m\u001b[0;34m\"replace\"\u001b[0m\u001b[0;34m,\u001b[0m \u001b[0mindex\u001b[0m\u001b[0;34m=\u001b[0m\u001b[0;32mFalse\u001b[0m\u001b[0;34m)\u001b[0m\u001b[0;34m\u001b[0m\u001b[0;34m\u001b[0m\u001b[0m\n\u001b[0m\u001b[1;32m      3\u001b[0m \u001b[0;34m\u001b[0m\u001b[0m\n\u001b[1;32m      4\u001b[0m \u001b[0;31m# Insert villains into SQLite\u001b[0m\u001b[0;34m\u001b[0m\u001b[0;34m\u001b[0m\u001b[0m\n\u001b[1;32m      5\u001b[0m \u001b[0mvillains_df\u001b[0m\u001b[0;34m.\u001b[0m\u001b[0mto_sql\u001b[0m\u001b[0;34m(\u001b[0m\u001b[0;34m\"villains\"\u001b[0m\u001b[0;34m,\u001b[0m \u001b[0mconn\u001b[0m\u001b[0;34m,\u001b[0m \u001b[0mif_exists\u001b[0m\u001b[0;34m=\u001b[0m\u001b[0;34m\"replace\"\u001b[0m\u001b[0;34m,\u001b[0m \u001b[0mindex\u001b[0m\u001b[0;34m=\u001b[0m\u001b[0;32mFalse\u001b[0m\u001b[0;34m)\u001b[0m\u001b[0;34m\u001b[0m\u001b[0;34m\u001b[0m\u001b[0m\n",
            "\u001b[0;31mNameError\u001b[0m: name 'heroes_df' is not defined"
          ]
        }
      ]
    },
    {
      "cell_type": "code",
      "source": [
        "# Insert battles into SQLite\n",
        "for index, row in battles_df.iterrows():\n",
        "  cursor.execute(\"INSERT INTO battles (hero_id, villain_id, outcome) VALUES (?, ?, ?)\",\n",
        "                   (row[\"hero_id\"], row[\"villain_id\"], row[\"outcome\"]))\n",
        "\n",
        "conn.commit()\n",
        "print(\"Battles data inserted successfully.\")"
      ],
      "metadata": {
        "id": "LemhVovABRF5"
      },
      "id": "LemhVovABRF5",
      "execution_count": null,
      "outputs": []
    },
    {
      "cell_type": "markdown",
      "source": [
        "# **Fetch Data and Insert into SQLite**"
      ],
      "metadata": {
        "id": "PoL6C6R_Cseo"
      },
      "id": "PoL6C6R_Cseo"
    },
    {
      "cell_type": "code",
      "source": [
        "cursor.execute(\"SELECT * FROM heroes LIMIT 5\")\n",
        "heroes = cursor.fetchall()\n",
        "print(heroes)\n",
        "\n",
        "cursor.execute(\"SELECT * FROM villains LIMIT 5\")\n",
        "villains = cursor.fetchall()\n",
        "print(villains)\n",
        "\n",
        "cursor.execute(\"SELECT * FROM battles LIMIT 5\")\n",
        "battles = cursor.fetchall()\n",
        "print(battles)"
      ],
      "metadata": {
        "colab": {
          "base_uri": "https://localhost:8080/",
          "height": 228
        },
        "id": "Bu998OREBZTB",
        "outputId": "8c50a249-c04f-4513-fefd-7b5dc9d5ec95"
      },
      "id": "Bu998OREBZTB",
      "execution_count": 29,
      "outputs": [
        {
          "output_type": "stream",
          "name": "stdout",
          "text": [
            "[]\n"
          ]
        },
        {
          "output_type": "error",
          "ename": "OperationalError",
          "evalue": "no such table: villains",
          "traceback": [
            "\u001b[0;31m---------------------------------------------------------------------------\u001b[0m",
            "\u001b[0;31mOperationalError\u001b[0m                          Traceback (most recent call last)",
            "\u001b[0;32m<ipython-input-29-aa24ce2979b8>\u001b[0m in \u001b[0;36m<cell line: 0>\u001b[0;34m()\u001b[0m\n\u001b[1;32m      3\u001b[0m \u001b[0mprint\u001b[0m\u001b[0;34m(\u001b[0m\u001b[0mheroes\u001b[0m\u001b[0;34m)\u001b[0m\u001b[0;34m\u001b[0m\u001b[0;34m\u001b[0m\u001b[0m\n\u001b[1;32m      4\u001b[0m \u001b[0;34m\u001b[0m\u001b[0m\n\u001b[0;32m----> 5\u001b[0;31m \u001b[0mcursor\u001b[0m\u001b[0;34m.\u001b[0m\u001b[0mexecute\u001b[0m\u001b[0;34m(\u001b[0m\u001b[0;34m\"SELECT * FROM villains LIMIT 5\"\u001b[0m\u001b[0;34m)\u001b[0m\u001b[0;34m\u001b[0m\u001b[0;34m\u001b[0m\u001b[0m\n\u001b[0m\u001b[1;32m      6\u001b[0m \u001b[0mvillains\u001b[0m \u001b[0;34m=\u001b[0m \u001b[0mcursor\u001b[0m\u001b[0;34m.\u001b[0m\u001b[0mfetchall\u001b[0m\u001b[0;34m(\u001b[0m\u001b[0;34m)\u001b[0m\u001b[0;34m\u001b[0m\u001b[0;34m\u001b[0m\u001b[0m\n\u001b[1;32m      7\u001b[0m \u001b[0mprint\u001b[0m\u001b[0;34m(\u001b[0m\u001b[0mvillains\u001b[0m\u001b[0;34m)\u001b[0m\u001b[0;34m\u001b[0m\u001b[0;34m\u001b[0m\u001b[0m\n",
            "\u001b[0;31mOperationalError\u001b[0m: no such table: villains"
          ]
        }
      ]
    },
    {
      "cell_type": "code",
      "source": [
        "# Insert into SQLite\n",
        "heroes_df.to_sql(\"heroes\", conn, if_exists=\"replace\", index=False)\n",
        "villains_df.to_sql(\"villains\", conn, if_exists=\"replace\", index=False)\n",
        "\n",
        "# Battles Foreign Keys\n",
        "for index, row in battles_df.iterrows():\n",
        "  cursor.execute(\"INSERT INTO battles (hero_id, villain_id, outcome) VALUES (?, ?, ?)\",\n",
        "                   (row[\"hero_id\"], row[\"villain_id\"], row[\"outcome\"]))\n",
        "\n",
        "conn.commit()\n",
        "print(\"Data imported.\")"
      ],
      "metadata": {
        "id": "NCxol_sj1P6L"
      },
      "id": "NCxol_sj1P6L",
      "execution_count": null,
      "outputs": []
    },
    {
      "cell_type": "markdown",
      "source": [
        "# **Retreiving Data to Answer Questions**"
      ],
      "metadata": {
        "id": "geSEur8rPBf6"
      },
      "id": "geSEur8rPBf6"
    },
    {
      "cell_type": "code",
      "source": [
        "# Retreive each superhero's powers\n",
        "\n",
        "cursor.execute(\"SELECT name, power FROM heroes\")\n",
        "print(cursor.fetchall())"
      ],
      "metadata": {
        "id": "RRJf-RjJM7mT"
      },
      "id": "RRJf-RjJM7mT",
      "execution_count": null,
      "outputs": []
    },
    {
      "cell_type": "code",
      "source": [
        "# Retreive all the battles that the hero won\n",
        "cursor.execute(\"\"\"\n",
        "SELECT h.name, v.name, b.outcome\n",
        "FROM battles b\n",
        "JOIN heroes h ON b.hero_id = h.id\n",
        "JOIN villains v ON b.villain_id = v.id\n",
        "WHERE b.outcome = 'Hero Wins'\n",
        "\"\"\")\n",
        "\n",
        "# Print results\n",
        "print(cursor.fetchall())"
      ],
      "metadata": {
        "id": "hT2wWn7LIPbK"
      },
      "id": "hT2wWn7LIPbK",
      "execution_count": null,
      "outputs": []
    },
    {
      "cell_type": "code",
      "source": [
        "# Retreive the villains and their plans\n",
        "cursor.execute(\"SELECT name, evil_plan FROM villains\")\n",
        "print(cursor.fetchall())"
      ],
      "metadata": {
        "id": "_Ek7h5m8NefJ"
      },
      "id": "_Ek7h5m8NefJ",
      "execution_count": null,
      "outputs": []
    },
    {
      "cell_type": "code",
      "source": [
        "# Find the hero who fought the most\n",
        "cursor.execute(\"\"\"\n",
        "SELECT h.name, COUNT(*) AS num_battles\n",
        "FROM battles b\n",
        "JOIN heroes h ON b.hero_id = h.id\n",
        "GROUP BY h.name\n",
        "ORDER BY num_battles DESC\n",
        "LIMIT 1\n",
        "\"\"\")\n",
        "\n",
        "print(cursor.fetchall())"
      ],
      "metadata": {
        "id": "pNC571SEOOB7"
      },
      "id": "pNC571SEOOB7",
      "execution_count": null,
      "outputs": []
    },
    {
      "cell_type": "markdown",
      "source": [
        "# **Custom Sidekicks Feature**"
      ],
      "metadata": {
        "id": "i0PKxKfLPN1y"
      },
      "id": "i0PKxKfLPN1y"
    },
    {
      "cell_type": "code",
      "source": [
        "# Create table to hold the sidekicks for each superhero\n",
        "\n",
        "cursor.execute('''\n",
        "CREATE TABLE IF NOT EXISTS sidekicks (\n",
        "  id INTEGER PRIMARY KEY AUTOINCREMENT,\n",
        "  hero_id INTEGER NOT NULL,\n",
        "  sidekick_name TEXT NOT NULL,\n",
        "  FOREIGN KEY (hero_id) REFERENCES heroes(id)\n",
        ");\n",
        "''')\n",
        "\n",
        "conn.commit()\n",
        "print(\"Sidekicks table has been created.\")"
      ],
      "metadata": {
        "id": "6KHOjPL1PQTV"
      },
      "id": "6KHOjPL1PQTV",
      "execution_count": null,
      "outputs": []
    },
    {
      "cell_type": "code",
      "source": [
        "# Insert the sidekicks\n",
        "cursor.execute(\"INSERT INTO sidekicks(hero_id, sidekick_name) VALUES ((SELECT id FROM heroes WHERE name = 'Batman'), 'Robin')\")\n",
        "cursor.execute(\"INSERT INTO sidekicks(hero_id, sidekick_name) VALUES ((SELECT id FROM heroes WHERE name = 'Superman'), 'Superboy')\")\n",
        "\n",
        "conn.commit()\n",
        "print(\"Sidekicks have been inserted.\")"
      ],
      "metadata": {
        "id": "J6Opw8t8TUpC"
      },
      "id": "J6Opw8t8TUpC",
      "execution_count": null,
      "outputs": []
    },
    {
      "cell_type": "code",
      "source": [
        "# Display superheroes and their sidekick\n",
        "cursor.execute (\"\"\"\n",
        "SELECT h.name, s.sidekick_name\n",
        "FROM sidekicks s\n",
        "JOIN heroes h ON s.hero_id = h.id\n",
        "\"\"\")\n",
        "\n",
        "print(cursor.fetchall())"
      ],
      "metadata": {
        "id": "wtuMrtOnWJ9h"
      },
      "id": "wtuMrtOnWJ9h",
      "execution_count": null,
      "outputs": []
    },
    {
      "cell_type": "markdown",
      "source": [
        "# **Bonus Visualization**"
      ],
      "metadata": {
        "id": "jKuWuPWXWeBC"
      },
      "id": "jKuWuPWXWeBC"
    },
    {
      "cell_type": "code",
      "source": [
        "# Import matplot lib to prepare visualization\n",
        "import matplotlib.pyplot as plt\n",
        "\n",
        "# Retreive SQLite data\n",
        "cursor.execute(\"SELECT h.name, COUNT(*) FROM battles b JOIN heroes h ON b.hero_id = h.id GROUP BY h.name\")\n",
        "data = cursor.fetchall()\n",
        "\n",
        "# Retreive the heroes and battle counts\n",
        "heroes = [row[0] for row in data]\n",
        "battle_counts = [row[1] for row in data]\n",
        "\n",
        "# Format the visulization to be easier to see\n",
        "plt.figure(figsize=(16, 11))\n",
        "\n",
        "# Plot labels, title, and show visuzliat\n",
        "plt.bar(heroes, battle_counts, color = 'blue')\n",
        "plt.xlabel('Superheroes')\n",
        "plt.ylabel('Number of Battles')\n",
        "plt.title('Number of Battles per Hero')\n",
        "plt.show()\n"
      ],
      "metadata": {
        "colab": {
          "base_uri": "https://localhost:8080/",
          "height": 723
        },
        "id": "OfjLbnJhWiGv",
        "outputId": "2487492e-9ca0-4151-ce83-66f1a4bca37b"
      },
      "id": "OfjLbnJhWiGv",
      "execution_count": 35,
      "outputs": [
        {
          "output_type": "display_data",
          "data": {
            "text/plain": [
              "<Figure size 1600x1100 with 1 Axes>"
            ],
            "image/png": "[encoded data removed]"
          },
          "metadata": {}
        }
      ]
    },
    {
      "cell_type": "code",
      "source": [
        "# Close the connection\n",
        "conn.close()\n",
        "print(\"Database connection closed.\")"
      ],
      "metadata": {
        "colab": {
          "base_uri": "https://localhost:8080/"
        },
        "id": "7Mg9Ql30XcWv",
        "outputId": "38da38da-ecf2-475e-f8f9-8609b1ffccb5"
      },
      "id": "7Mg9Ql30XcWv",
      "execution_count": 36,
      "outputs": [
        {
          "output_type": "stream",
          "name": "stdout",
          "text": [
            "Database connection closed.\n"
          ]
        }
      ]
    },
    {
      "cell_type": "markdown",
      "source": [
        "# **Instructions**"
      ],
      "metadata": {
        "id": "h0zidVq0C8Fa"
      },
      "id": "h0zidVq0C8Fa"
    },
    {
      "cell_type": "markdown",
      "id": "5535e625",
      "metadata": {
        "id": "5535e625"
      },
      "source": [
        "## Step 1: Setting Up Your SQLite Database\n",
        "\n",
        "### Tasks:\n",
        "1. Initialize SQLite in Google Colab.\n",
        "2. Create a database named `superhero_db.sqlite`.\n",
        "3. Define the database schema, ensuring it includes the following tables:\n",
        "   - `heroes`: Stores superhero names, powers, and teams.\n",
        "   - `villains`: Stores villains and their evil plans.\n",
        "   - `battles`: Tracks battles between heroes and villains, including the outcome.\n",
        "4. Implement primary keys and foreign keys where appropriate.\n",
        "\n",
        "✅ **Checkpoint:** Ensure that the database and tables have been successfully created."
      ]
    },
    {
      "cell_type": "markdown",
      "id": "154b3c3a",
      "metadata": {
        "id": "154b3c3a"
      },
      "source": [
        "## Step 2: Import Data from CSV Files\n",
        "\n",
        "### Tasks:\n",
        "1. Download the provided CSV files.\n",
        "2. Upload them to Google Colab.\n",
        "3. Write a script to import data from these files into the appropriate tables.\n",
        "4. Verify that the data has been successfully inserted.\n",
        "\n",
        "✅ **Checkpoint:** Ensure that each table contains the expected data from the CSV files."
      ]
    },
    {
      "cell_type": "markdown",
      "id": "33548d9f",
      "metadata": {
        "id": "33548d9f"
      },
      "source": [
        "## Step 3: Querying the Database\n",
        "\n",
        "### Tasks:\n",
        "Write SQL queries to answer the following:\n",
        "1. Retrieve all superheroes and their powers.\n",
        "2. Find all battles where the hero won.\n",
        "3. List all villains and their evil plans.\n",
        "4. Determine which superhero has fought the most battles.\n",
        "\n",
        "✅ **Checkpoint:** Ensure that all queries return meaningful results from the database."
      ]
    },
    {
      "cell_type": "markdown",
      "id": "de8bda94",
      "metadata": {
        "id": "de8bda94"
      },
      "source": [
        "## Step 4: Add a Custom Feature\n",
        "\n",
        "### Tasks:\n",
        "1. Design and implement an additional table related to superheroes or villains.\n",
        "2. Populate it with data.\n",
        "3. Write at least one query to retrieve meaningful insights from the new table.\n",
        "\n",
        "**Examples of Custom Features:**\n",
        "- Sidekicks for superheroes\n",
        "- Villain hideouts\n",
        "- Battle locations\n",
        "- Superhero equipment\n",
        "\n",
        "✅ **Checkpoint:** Ensure that the new table and queries function correctly."
      ]
    },
    {
      "cell_type": "markdown",
      "id": "9bf43fe6",
      "metadata": {
        "id": "9bf43fe6"
      },
      "source": [
        "## Bonus Challenge (+5 Points)\n",
        "\n",
        "### Tasks:\n",
        "1. Enhance your project by adding a visual or interactive component.\n",
        "\n",
        "**Options:**\n",
        "- Visualize battles using Matplotlib (e.g., a bar chart showing how many battles each superhero has fought).\n",
        "- Make it interactive (e.g., allow users to input a superhero name and display their battles).\n",
        "\n",
        "✅ **Checkpoint:** If attempting the bonus, ensure that your visualization or interactive component works correctly."
      ]
    },
    {
      "cell_type": "markdown",
      "id": "89f56c05",
      "metadata": {
        "id": "89f56c05"
      },
      "source": [
        "## Submission Guidelines\n",
        "\n",
        "Each group must submit a **Google Colab Notebook (.ipynb)** containing:\n",
        "- ✅ **Database schema (DDL)**\n",
        "- ✅ **CSV imports & data insertion (DML)**\n",
        "- ✅ **SQL queries & results**\n",
        "- ✅ **Custom feature (bonus if applicable)**"
      ]
    },
    {
      "cell_type": "markdown",
      "id": "61477c9b",
      "metadata": {
        "id": "61477c9b"
      },
      "source": [
        "## Grading Criteria (Total: 25 Points)\n",
        "\n",
        "| Section                 | Points |\n",
        "|-------------------------|--------|\n",
        "| Database Setup          | 5      |\n",
        "| Data Importing         | 10     |\n",
        "| Querying the Data      | 10     |\n",
        "| Extra Feature          | 5      |\n",
        "| Bonus Challenge (Optional) | +5  |"
      ]
    },
    {
      "cell_type": "markdown",
      "id": "92bf6839",
      "metadata": {
        "id": "92bf6839"
      },
      "source": [
        "### Final Notes:\n",
        "- Be **creative** when designing superheroes and villains.\n",
        "- **Comment your code** to explain its functionality.\n",
        "- **Have fun** building your superhero universe!"
      ]
    }
  ],
  "metadata": {
    "colab": {
      "provenance": []
    },
    "language_info": {
      "name": "python"
    },
    "kernelspec": {
      "name": "python3",
      "display_name": "Python 3"
    }
  },
  "nbformat": 4,
  "nbformat_minor": 5
}